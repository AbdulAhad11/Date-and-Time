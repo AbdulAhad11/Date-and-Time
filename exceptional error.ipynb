{
 "cells": [
  {
   "cell_type": "code",
   "execution_count": null,
   "metadata": {},
   "outputs": [
    {
     "name": "stdout",
     "output_type": "stream",
     "text": [
      "enter the number: 10\n",
      "enter the number: 2\n",
      "0.2\n",
      "enter the number: 2\n",
      "enter the number: 0\n",
      "0.0\n",
      "enter the number: 10\n",
      "enter the number: 0\n",
      "0.0\n",
      "enter the number: 0\n",
      "enter the number: 10\n",
      "wait for next number\n"
     ]
    }
   ],
   "source": [
    "#exception handling\n",
    "while True:\n",
    "    a = int(input(\"enter the number: \"))\n",
    "    b = int(input(\"enter the number: \"))\n",
    "   #00y0\n",
    "000     c = b/a\n",
    "        print(c)\n",
    "    except:\n",
    "        print(\"wait for next number\")\n",
    "    \n"
   ]
  },
  {
   "cell_type": "code",
   "execution_count": null,
   "metadata": {},
   "outputs": [],
   "source": []
  }
 ],
 "metadata": {
  "kernelspec": {
   "display_name": "Python 3",
   "language": "python",
   "name": "python3"
  },
  "language_info": {
   "codemirror_mode": {
    "name": "ipython",
    "version": 3
   },
   "file_extension": ".py",
   "mimetype": "text/x-python",
   "name": "python",
   "nbconvert_exporter": "python",
   "pygments_lexer": "ipython3",
   "version": "3.7.4"
  }
 },
 "nbformat": 4,
 "nbformat_minor": 2
}
