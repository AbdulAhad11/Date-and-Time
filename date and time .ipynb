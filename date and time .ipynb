{
 "cells": [
  {
   "cell_type": "code",
   "execution_count": 14,
   "metadata": {
    "scrolled": true
   },
   "outputs": [
    {
     "name": "stdout",
     "output_type": "stream",
     "text": [
      "2021-09-14 04:28:27.740029\n",
      "date and time:  14/09/2021,04:28:27\n"
     ]
    }
   ],
   "source": [
    "#parameter\n",
    "#by default argument\n",
    "#date time library\n",
    "#library is a coded file\n",
    "#python extension is py\n",
    "#second datetime is class \n",
    "# \".\" is telling the way \n",
    "\n",
    "import datetime as dt\n",
    "x = dt.datetime.now()\n",
    "print(x)\n",
    "#formating of date\n",
    "#strf = string format \n",
    "date_time = x.strftime(\"%d/%m/%Y,%H:%M:%S\")\n",
    "print(\"date and time: \",date_time)\n"
   ]
  },
  {
   "cell_type": "code",
   "execution_count": null,
   "metadata": {},
   "outputs": [],
   "source": []
  }
 ],
 "metadata": {
  "kernelspec": {
   "display_name": "Python 3",
   "language": "python",
   "name": "python3"
  },
  "language_info": {
   "codemirror_mode": {
    "name": "ipython",
    "version": 3
   },
   "file_extension": ".py",
   "mimetype": "text/x-python",
   "name": "python",
   "nbconvert_exporter": "python",
   "pygments_lexer": "ipython3",
   "version": "3.7.4"
  }
 },
 "nbformat": 4,
 "nbformat_minor": 2
}
